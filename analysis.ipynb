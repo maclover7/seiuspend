{
 "cells": [
  {
   "cell_type": "markdown",
   "id": "68b794cf-746f-45e1-b71e-6c7918859427",
   "metadata": {},
   "source": [
    "### seiu"
   ]
  },
  {
   "cell_type": "code",
   "execution_count": 1,
   "id": "ed1c6a43-5768-45bf-b312-c71c70e89833",
   "metadata": {},
   "outputs": [],
   "source": [
    "import pandas as pd"
   ]
  },
  {
   "cell_type": "code",
   "execution_count": 2,
   "id": "02341e88-1ad4-437e-b32b-03f58cd7a47e",
   "metadata": {},
   "outputs": [],
   "source": [
    "SEIU_COMMITTEES = pd.DataFrame([\n",
    "    ['2005226', 'LOCAL 0032BJ PA AMERICAN DREAM FUND'],\n",
    "    ['20150138', 'SEIU HEALTHCARE PA COPE'],\n",
    "    ['8000703', 'PA SEIU COPE (SOC SVCS)'],\n",
    "    ['9900041', 'PSSU LOCAL 668 SEIU COPE FUND'],\n",
    "    ['20190384', 'SEIU CAREGIVERS ACTION']],\n",
    "    columns=['Committee Number', 'Committee Name'])\n",
    "\n",
    "EXPENSES_2023 = [\n",
    "    # LOCAL 0032BJ PA AMERICAN DREAM FUND -- from own report\n",
    "    ['387640', '2005226', 2023, '', 2, 'CMT ELECTED HELEN DEE SPADE', '', '', '', '', 15237, 20230322, 500, ''],\n",
    "    ['387640', '2005226', 2023, '', 2, 'FRIENDS OF COREY OCONNOR', '', '', '', '', 15222, 20230322, 1000, ''],\n",
    "    ['387640', '2005226', 2023, '', 2, 'FRIENDS OF SARA INNAMORATO', '', '', '', '', 15201, 20230322, 40000, ''],\n",
    "    ['387640', '2005226', 2023, '', 2, 'BARB WARWICK FOR CITY COUNCIL', '', '', '', '', 15207, 20230411, 1000, ''],\n",
    "    ['387640', '2005226', 2023, '', 2, 'FRIENDS OF BOB CHARLAND', '', '', '', '', 15203, 20230411, 1000, ''],\n",
    "    ['387640', '2005226', 2023, '', 2, 'FRIENDS OF DEB GROSS', '', '', '', '', 15201, 20230411, 1000, ''],\n",
    "    ['387640', '2005226', 2023, '', 2, 'FRIENDS OF KHARI MOSLEY', '', '', '', '', 15206, 20230411, 1000, ''],\n",
    "\n",
    "    # SEIU HEALTHCARE PA COPE -- from own report\n",
    "    ['386887', '20150138', 2023, '', 1, 'SHERI GRAUBERT', '', '', '', '', 15218, 20230307, 300, 'IN KIND INNAMORATO'],\n",
    "    ['386887', '20150138', 2023, '', 1, 'CHRIS IVEY', '', '', '', '', 15218, 20230317, 4000, 'IN KIND NNAMORATO'],\n",
    "    ['388044', '20150138', 2023, '', 2, 'FRIENDS OF SARA INNAMORATO', '', '', '', '', 15201, 20230403, 95000, ''],\n",
    "    ['388044', '20150138', 2023, '', 2, 'FRIENDS OF DEB GROSS', '', '', '', '', 15206, 20230501, 1000, ''],\n",
    "    ['388044', '20150138', 2023, '', 2, 'FRIENDS OF BOBBY WILSON', '', '', '', '', 15212, 20230501, 1000, ''],\n",
    "    ['388044', '20150138', 2023, '', 2, 'BARB WARWICK FOR CITY COUNCIL', '', '', '', '', 15207, 20230501, 1000, ''],\n",
    "    ['388044', '20150138', 2023, '', 2, 'FRIENDS OF KHARI MOSLEY', '', '', '', '', 15206, 20230501, 1000, ''],\n",
    "    ['388044', '20150138', 2023, '', 2, 'FRIENDS OF BOB CHARLAND', '', '', '', '', 15203, 20230501, 1000, ''],\n",
    "\n",
    "    # PA SEIU COPE (SOC SVCS) -- from own report\n",
    "    ['386705', '8000703', 2023, '', 1, 'FRIENDS OF ARVIND VENKAT', '', '', '', '', 15090, 20230308, 250, ''],\n",
    "    ['386705', '8000703', 2023, '', 1, 'LATASHA MAYES FOR STATE REPRESENTATIVE', '', '', '', '', 15206, 20230308, 250, ''],\n",
    "    ['386705', '8000703', 2023, '', 1, 'SEIU', '', '', '', '', 15206, 20230125, 241.76, 'IN KIND LINDSEY WILLIAMS'],\n",
    "\n",
    "    # PA SEIU COPE (SOC SVCS) -- from Innamo report\n",
    "    ['0', '8000703', 2023, '', 2, 'ETC', '', '', '', '', 15201, 20230501, 50000, 'IN KIND INNAMORATO'],\n",
    "\n",
    "    # PSSU LOCAL 668 SEIU COPE FUND -- from Innamo report\n",
    "    ['0', '9900041', 2023, '', 2, 'FRIENDS OF SARA INNAMORATO', '', '', '', '', 15201, 20230428, 100000, ''],\n",
    "\n",
    "    # 'SEIU CAREGIVERS ACTION' -- from own report\n",
    "    ['388037', '20190384', 2023, '', 2, 'WFP', '', '', '', '', 15201, 20230425, 75000, 'IN KIND INNAMORATO']    \n",
    "]"
   ]
  },
  {
   "cell_type": "markdown",
   "id": "861800ad-d19c-4cc0-9852-c1d0c070597a",
   "metadata": {},
   "source": [
    "### Import all expenses, link to SEIU committees"
   ]
  },
  {
   "cell_type": "code",
   "execution_count": 3,
   "id": "6bd0bb3e-e552-40fe-b473-6f358d1d95fa",
   "metadata": {},
   "outputs": [
    {
     "name": "stderr",
     "output_type": "stream",
     "text": [
      "/var/folders/09/03gfs0bx11zdrz_w9_59f4f40000gn/T/ipykernel_70925/1594577243.py:15: DtypeWarning: Columns (12) have mixed types. Specify dtype option on import or set low_memory=False.\n",
      "  pd.read_csv('input/expense_2013.csv', names=names201221, encoding='unicode_escape'),\n"
     ]
    }
   ],
   "source": [
    "names201221 = [\n",
    "    'filer_id', 'election_year', 'cycle',\n",
    "    'name', 'address1', 'address2', 'city', 'state', 'zipcode',\n",
    "    'date', 'amount', 'description', 'blank'\n",
    "]\n",
    "\n",
    "names2022 = [\n",
    "    'report_id', 'filer_id', 'election_year', 'filer_date', 'cycle',\n",
    "    'name', 'address1', 'address2', 'city', 'state', 'zipcode',\n",
    "    'date', 'amount', 'description'\n",
    "]\n",
    "\n",
    "expenses = pd.concat([\n",
    "    pd.read_csv('input/expense_2012.csv', names=names201221, encoding='unicode_escape'),\n",
    "    pd.read_csv('input/expense_2013.csv', names=names201221, encoding='unicode_escape'),\n",
    "    pd.read_csv('input/expense_2014.csv', names=names201221, encoding='unicode_escape'),\n",
    "    pd.read_csv('input/expense_2015.csv', names=names201221, encoding='unicode_escape'),\n",
    "    pd.read_csv('input/expense_2016.csv', names=names201221, encoding='unicode_escape'),\n",
    "    pd.read_csv('input/expense_2017.csv', names=names201221, encoding='unicode_escape'),\n",
    "    pd.read_csv('input/expense_2018.csv', names=names201221, encoding='unicode_escape', skiprows=[1333, 22823, 62725, 108098]),\n",
    "    pd.read_csv('input/expense_2019.csv', names=names201221, encoding='unicode_escape'),\n",
    "    pd.read_csv('input/expense_2020.csv', names=names201221, encoding='unicode_escape', skiprows=[60172]),\n",
    "    pd.read_csv('input/expense_2021.csv', names=names201221, encoding='unicode_escape', skiprows=[14403, 66485, 66486, 66487, 66488, 66489, 66490, 66491, 87279]),\n",
    "    pd.read_csv('input/expense_2022.csv', usecols=names2022, names=names2022),\n",
    "    pd.DataFrame(EXPENSES_2023, columns=names2022)\n",
    "])"
   ]
  },
  {
   "cell_type": "code",
   "execution_count": 4,
   "id": "2bbafd30-a920-4e57-a9f6-a65717882923",
   "metadata": {},
   "outputs": [],
   "source": [
    "expenses = expenses[['filer_id', 'election_year', 'name', 'zipcode', 'date', 'amount', 'description']]"
   ]
  },
  {
   "cell_type": "code",
   "execution_count": 5,
   "id": "b232106c-c786-4638-a859-d8514daf6703",
   "metadata": {},
   "outputs": [],
   "source": [
    "expenses.loc[expenses.description.isna(), 'description'] = ''\n",
    "expenses.loc[expenses.name.isna(), 'name'] = ''\n",
    "\n",
    "expenses['description'] = expenses.description.str.upper()\n",
    "expenses['name'] = expenses.name.str.upper()\n",
    "expenses['zipcode'] = expenses.zipcode.astype(str)\n",
    "\n",
    "### Remove malformated vendor\n",
    "expenses = expenses.drop(expenses[expenses['name'] == 'NCH SOFTWARE'].index)\n",
    "\n",
    "expenses['date'] = pd.to_datetime(expenses.date, format='%Y%m%d')"
   ]
  },
  {
   "cell_type": "code",
   "execution_count": 6,
   "id": "ffb22f96-a71d-45d8-8e8c-e3454f9f8d23",
   "metadata": {},
   "outputs": [],
   "source": [
    "expenses = pd.merge(expenses, SEIU_COMMITTEES, left_on='filer_id', right_on='Committee Number')"
   ]
  },
  {
   "cell_type": "markdown",
   "id": "f7c9714c-cdf5-4240-b2ef-8c2c4e95967f",
   "metadata": {},
   "source": [
    "### Peduto-Ravenstahl"
   ]
  },
  {
   "cell_type": "code",
   "execution_count": 7,
   "id": "e29f46d2-df7a-493a-bc11-d09cb47fac57",
   "metadata": {},
   "outputs": [
    {
     "data": {
      "text/html": [
       "<div>\n",
       "<style scoped>\n",
       "    .dataframe tbody tr th:only-of-type {\n",
       "        vertical-align: middle;\n",
       "    }\n",
       "\n",
       "    .dataframe tbody tr th {\n",
       "        vertical-align: top;\n",
       "    }\n",
       "\n",
       "    .dataframe thead th {\n",
       "        text-align: right;\n",
       "    }\n",
       "</style>\n",
       "<table border=\"1\" class=\"dataframe\">\n",
       "  <thead>\n",
       "    <tr style=\"text-align: right;\">\n",
       "      <th></th>\n",
       "      <th>amount</th>\n",
       "    </tr>\n",
       "    <tr>\n",
       "      <th>Committee Name</th>\n",
       "      <th></th>\n",
       "    </tr>\n",
       "  </thead>\n",
       "  <tbody>\n",
       "    <tr>\n",
       "      <th>LOCAL 0032BJ PA AMERICAN DREAM FUND</th>\n",
       "      <td>25000.0</td>\n",
       "    </tr>\n",
       "    <tr>\n",
       "      <th>PA SEIU COPE (SOC SVCS)</th>\n",
       "      <td>5000.0</td>\n",
       "    </tr>\n",
       "  </tbody>\n",
       "</table>\n",
       "</div>"
      ],
      "text/plain": [
       "                                      amount\n",
       "Committee Name                              \n",
       "LOCAL 0032BJ PA AMERICAN DREAM FUND  25000.0\n",
       "PA SEIU COPE (SOC SVCS)               5000.0"
      ]
     },
     "execution_count": 7,
     "metadata": {},
     "output_type": "execute_result"
    }
   ],
   "source": [
    "pd.pivot_table(expenses[\n",
    "    (expenses.name.str.contains('PEDUTO')) &\n",
    "    (expenses.date.dt.year.isin([2012, 2013]))\n",
    "], index='Committee Name', values='amount', aggfunc='sum').sort_values(by='amount', ascending=False)"
   ]
  },
  {
   "cell_type": "markdown",
   "id": "21ea649d-bd28-4a05-b1ae-15e7f610c97d",
   "metadata": {},
   "source": [
    "### Wilson-Harris"
   ]
  },
  {
   "cell_type": "code",
   "execution_count": 8,
   "id": "6d72f9af-18fb-4831-8c86-bdcc585b237e",
   "metadata": {},
   "outputs": [
    {
     "data": {
      "text/html": [
       "<div>\n",
       "<style scoped>\n",
       "    .dataframe tbody tr th:only-of-type {\n",
       "        vertical-align: middle;\n",
       "    }\n",
       "\n",
       "    .dataframe tbody tr th {\n",
       "        vertical-align: top;\n",
       "    }\n",
       "\n",
       "    .dataframe thead th {\n",
       "        text-align: right;\n",
       "    }\n",
       "</style>\n",
       "<table border=\"1\" class=\"dataframe\">\n",
       "  <thead>\n",
       "    <tr style=\"text-align: right;\">\n",
       "      <th></th>\n",
       "      <th>amount</th>\n",
       "    </tr>\n",
       "    <tr>\n",
       "      <th>Committee Name</th>\n",
       "      <th></th>\n",
       "    </tr>\n",
       "  </thead>\n",
       "  <tbody>\n",
       "    <tr>\n",
       "      <th>LOCAL 0032BJ PA AMERICAN DREAM FUND</th>\n",
       "      <td>50385.18</td>\n",
       "    </tr>\n",
       "  </tbody>\n",
       "</table>\n",
       "</div>"
      ],
      "text/plain": [
       "                                       amount\n",
       "Committee Name                               \n",
       "LOCAL 0032BJ PA AMERICAN DREAM FUND  50385.18"
      ]
     },
     "execution_count": 8,
     "metadata": {},
     "output_type": "execute_result"
    }
   ],
   "source": [
    "pd.pivot_table(expenses[\n",
    "    (expenses.description.str.contains('BOBBY WILSON') |\n",
    "    expenses.description.str.contains('DARLENE HARRIS')) &\n",
    "    (expenses.date.dt.year == 2019)\n",
    "], index=['Committee Name'], values='amount', aggfunc='sum').sort_values(by='amount', ascending=False)"
   ]
  },
  {
   "cell_type": "code",
   "execution_count": 9,
   "id": "9e3be933-ec57-42f3-839a-1bc9881b0f83",
   "metadata": {},
   "outputs": [
    {
     "data": {
      "text/html": [
       "<div>\n",
       "<style scoped>\n",
       "    .dataframe tbody tr th:only-of-type {\n",
       "        vertical-align: middle;\n",
       "    }\n",
       "\n",
       "    .dataframe tbody tr th {\n",
       "        vertical-align: top;\n",
       "    }\n",
       "\n",
       "    .dataframe thead th {\n",
       "        text-align: right;\n",
       "    }\n",
       "</style>\n",
       "<table border=\"1\" class=\"dataframe\">\n",
       "  <thead>\n",
       "    <tr style=\"text-align: right;\">\n",
       "      <th></th>\n",
       "      <th>amount</th>\n",
       "    </tr>\n",
       "    <tr>\n",
       "      <th>Committee Name</th>\n",
       "      <th></th>\n",
       "    </tr>\n",
       "  </thead>\n",
       "  <tbody>\n",
       "    <tr>\n",
       "      <th>LOCAL 0032BJ PA AMERICAN DREAM FUND</th>\n",
       "      <td>10000.0</td>\n",
       "    </tr>\n",
       "    <tr>\n",
       "      <th>SEIU HEALTHCARE PA COPE</th>\n",
       "      <td>2500.0</td>\n",
       "    </tr>\n",
       "  </tbody>\n",
       "</table>\n",
       "</div>"
      ],
      "text/plain": [
       "                                      amount\n",
       "Committee Name                              \n",
       "LOCAL 0032BJ PA AMERICAN DREAM FUND  10000.0\n",
       "SEIU HEALTHCARE PA COPE               2500.0"
      ]
     },
     "execution_count": 9,
     "metadata": {},
     "output_type": "execute_result"
    }
   ],
   "source": [
    "pd.pivot_table(expenses[\n",
    "    (expenses.name.str.contains('BOBBY WILSON')) &\n",
    "    (expenses.date.dt.year == 2019)\n",
    "], index='Committee Name', values='amount', aggfunc='sum').sort_values(by='amount', ascending=False)"
   ]
  },
  {
   "cell_type": "markdown",
   "id": "22cc904f-7e48-4412-bf6e-3207e32a239b",
   "metadata": {},
   "source": [
    "### Kinkead-Ravenstahl"
   ]
  },
  {
   "cell_type": "code",
   "execution_count": 10,
   "id": "54c11b83-498e-4a46-9008-fa2c177efcdf",
   "metadata": {},
   "outputs": [
    {
     "data": {
      "text/html": [
       "<div>\n",
       "<style scoped>\n",
       "    .dataframe tbody tr th:only-of-type {\n",
       "        vertical-align: middle;\n",
       "    }\n",
       "\n",
       "    .dataframe tbody tr th {\n",
       "        vertical-align: top;\n",
       "    }\n",
       "\n",
       "    .dataframe thead th {\n",
       "        text-align: right;\n",
       "    }\n",
       "</style>\n",
       "<table border=\"1\" class=\"dataframe\">\n",
       "  <thead>\n",
       "    <tr style=\"text-align: right;\">\n",
       "      <th></th>\n",
       "      <th>filer_id</th>\n",
       "      <th>election_year</th>\n",
       "      <th>name</th>\n",
       "      <th>zipcode</th>\n",
       "      <th>date</th>\n",
       "      <th>amount</th>\n",
       "      <th>description</th>\n",
       "      <th>Committee Number</th>\n",
       "      <th>Committee Name</th>\n",
       "    </tr>\n",
       "  </thead>\n",
       "  <tbody>\n",
       "  </tbody>\n",
       "</table>\n",
       "</div>"
      ],
      "text/plain": [
       "Empty DataFrame\n",
       "Columns: [filer_id, election_year, name, zipcode, date, amount, description, Committee Number, Committee Name]\n",
       "Index: []"
      ]
     },
     "execution_count": 10,
     "metadata": {},
     "output_type": "execute_result"
    }
   ],
   "source": [
    "expenses[\n",
    "    (expenses.description.str.contains('KINKEAD') |\n",
    "    expenses.description.str.contains('RAVENSTAHL')) &\n",
    "    (expenses.date.dt.year.isin([2019, 2020]))\n",
    "]"
   ]
  },
  {
   "cell_type": "code",
   "execution_count": 11,
   "id": "6b8dc1a5-5714-4d5c-97a2-cb3f99e09455",
   "metadata": {},
   "outputs": [
    {
     "data": {
      "text/html": [
       "<div>\n",
       "<style scoped>\n",
       "    .dataframe tbody tr th:only-of-type {\n",
       "        vertical-align: middle;\n",
       "    }\n",
       "\n",
       "    .dataframe tbody tr th {\n",
       "        vertical-align: top;\n",
       "    }\n",
       "\n",
       "    .dataframe thead th {\n",
       "        text-align: right;\n",
       "    }\n",
       "</style>\n",
       "<table border=\"1\" class=\"dataframe\">\n",
       "  <thead>\n",
       "    <tr style=\"text-align: right;\">\n",
       "      <th></th>\n",
       "      <th>amount</th>\n",
       "    </tr>\n",
       "    <tr>\n",
       "      <th>Committee Name</th>\n",
       "      <th></th>\n",
       "    </tr>\n",
       "  </thead>\n",
       "  <tbody>\n",
       "    <tr>\n",
       "      <th>PA SEIU COPE (SOC SVCS)</th>\n",
       "      <td>52000.0</td>\n",
       "    </tr>\n",
       "  </tbody>\n",
       "</table>\n",
       "</div>"
      ],
      "text/plain": [
       "                          amount\n",
       "Committee Name                  \n",
       "PA SEIU COPE (SOC SVCS)  52000.0"
      ]
     },
     "execution_count": 11,
     "metadata": {},
     "output_type": "execute_result"
    }
   ],
   "source": [
    "pd.pivot_table(expenses[\n",
    "    (expenses.name.str.contains('KINKEAD')) &\n",
    "    (expenses.date.dt.year.isin([2019, 2020]))\n",
    "], index='Committee Name', values='amount', aggfunc='sum').sort_values(by='amount', ascending=False)"
   ]
  },
  {
   "cell_type": "markdown",
   "id": "37e5b3fd-095c-4de7-a359-9621db809fb0",
   "metadata": {},
   "source": [
    "### Gainey-Peduto"
   ]
  },
  {
   "cell_type": "code",
   "execution_count": 12,
   "id": "dfaea359-0aaa-466d-a1d7-491fb1b38929",
   "metadata": {},
   "outputs": [
    {
     "data": {
      "text/html": [
       "<div>\n",
       "<style scoped>\n",
       "    .dataframe tbody tr th:only-of-type {\n",
       "        vertical-align: middle;\n",
       "    }\n",
       "\n",
       "    .dataframe tbody tr th {\n",
       "        vertical-align: top;\n",
       "    }\n",
       "\n",
       "    .dataframe thead th {\n",
       "        text-align: right;\n",
       "    }\n",
       "</style>\n",
       "<table border=\"1\" class=\"dataframe\">\n",
       "  <thead>\n",
       "    <tr style=\"text-align: right;\">\n",
       "      <th></th>\n",
       "      <th></th>\n",
       "      <th>amount</th>\n",
       "    </tr>\n",
       "    <tr>\n",
       "      <th>Committee Name</th>\n",
       "      <th>name</th>\n",
       "      <th></th>\n",
       "    </tr>\n",
       "  </thead>\n",
       "  <tbody>\n",
       "    <tr>\n",
       "      <th>SEIU CAREGIVERS ACTION</th>\n",
       "      <th>ALLEGHENY COUNTY JUSTICE FOR ALL</th>\n",
       "      <td>204000.0</td>\n",
       "    </tr>\n",
       "    <tr>\n",
       "      <th>SEIU HEALTHCARE PA COPE</th>\n",
       "      <th>ALLEGHENY COUNTY JUSTICE FOR ALL</th>\n",
       "      <td>150000.0</td>\n",
       "    </tr>\n",
       "    <tr>\n",
       "      <th>LOCAL 0032BJ PA AMERICAN DREAM FUND</th>\n",
       "      <th>GOOD JOBS PITTSBURGH</th>\n",
       "      <td>100000.0</td>\n",
       "    </tr>\n",
       "  </tbody>\n",
       "</table>\n",
       "</div>"
      ],
      "text/plain": [
       "                                                                        amount\n",
       "Committee Name                      name                                      \n",
       "SEIU CAREGIVERS ACTION              ALLEGHENY COUNTY JUSTICE FOR ALL  204000.0\n",
       "SEIU HEALTHCARE PA COPE             ALLEGHENY COUNTY JUSTICE FOR ALL  150000.0\n",
       "LOCAL 0032BJ PA AMERICAN DREAM FUND GOOD JOBS PITTSBURGH              100000.0"
      ]
     },
     "execution_count": 12,
     "metadata": {},
     "output_type": "execute_result"
    }
   ],
   "source": [
    "pd.pivot_table(expenses[\n",
    "    (expenses.name.isin(['ALLEGHENY COUNTY JUSTICE FOR ALL', 'GOOD JOBS PITTSBURGH'])) &\n",
    "    (expenses.date.dt.year.isin([2021]))\n",
    "], index=['Committee Name', 'name'], values='amount', aggfunc='sum').sort_values(by='amount', ascending=False)\n",
    "\n",
    "# RED HORSE STRATEGIES ??"
   ]
  },
  {
   "cell_type": "code",
   "execution_count": 13,
   "id": "036b8184-7699-4fdd-b7ed-5c4290338902",
   "metadata": {},
   "outputs": [
    {
     "data": {
      "text/html": [
       "<div>\n",
       "<style scoped>\n",
       "    .dataframe tbody tr th:only-of-type {\n",
       "        vertical-align: middle;\n",
       "    }\n",
       "\n",
       "    .dataframe tbody tr th {\n",
       "        vertical-align: top;\n",
       "    }\n",
       "\n",
       "    .dataframe thead th {\n",
       "        text-align: right;\n",
       "    }\n",
       "</style>\n",
       "<table border=\"1\" class=\"dataframe\">\n",
       "  <thead>\n",
       "    <tr style=\"text-align: right;\">\n",
       "      <th></th>\n",
       "      <th>amount</th>\n",
       "    </tr>\n",
       "    <tr>\n",
       "      <th>Committee Name</th>\n",
       "      <th></th>\n",
       "    </tr>\n",
       "  </thead>\n",
       "  <tbody>\n",
       "    <tr>\n",
       "      <th>LOCAL 0032BJ PA AMERICAN DREAM FUND</th>\n",
       "      <td>4000.0</td>\n",
       "    </tr>\n",
       "  </tbody>\n",
       "</table>\n",
       "</div>"
      ],
      "text/plain": [
       "                                     amount\n",
       "Committee Name                             \n",
       "LOCAL 0032BJ PA AMERICAN DREAM FUND  4000.0"
      ]
     },
     "execution_count": 13,
     "metadata": {},
     "output_type": "execute_result"
    }
   ],
   "source": [
    "pd.pivot_table(expenses[\n",
    "    (expenses.name.str.contains('PEDUTO')) &\n",
    "    (expenses.date.dt.year.isin([2020, 2021]))\n",
    "], index='Committee Name', values='amount', aggfunc='sum').sort_values(by='amount', ascending=False)"
   ]
  },
  {
   "cell_type": "code",
   "execution_count": 14,
   "id": "98b973a4-cda0-4087-9410-596ac0f56713",
   "metadata": {},
   "outputs": [
    {
     "data": {
      "text/html": [
       "<div>\n",
       "<style scoped>\n",
       "    .dataframe tbody tr th:only-of-type {\n",
       "        vertical-align: middle;\n",
       "    }\n",
       "\n",
       "    .dataframe tbody tr th {\n",
       "        vertical-align: top;\n",
       "    }\n",
       "\n",
       "    .dataframe thead th {\n",
       "        text-align: right;\n",
       "    }\n",
       "</style>\n",
       "<table border=\"1\" class=\"dataframe\">\n",
       "  <thead>\n",
       "    <tr style=\"text-align: right;\">\n",
       "      <th></th>\n",
       "      <th>amount</th>\n",
       "    </tr>\n",
       "    <tr>\n",
       "      <th>Committee Name</th>\n",
       "      <th></th>\n",
       "    </tr>\n",
       "  </thead>\n",
       "  <tbody>\n",
       "    <tr>\n",
       "      <th>LOCAL 0032BJ PA AMERICAN DREAM FUND</th>\n",
       "      <td>5000.0</td>\n",
       "    </tr>\n",
       "    <tr>\n",
       "      <th>SEIU HEALTHCARE PA COPE</th>\n",
       "      <td>5000.0</td>\n",
       "    </tr>\n",
       "    <tr>\n",
       "      <th>PSSU LOCAL 668 SEIU COPE FUND</th>\n",
       "      <td>1000.0</td>\n",
       "    </tr>\n",
       "  </tbody>\n",
       "</table>\n",
       "</div>"
      ],
      "text/plain": [
       "                                     amount\n",
       "Committee Name                             \n",
       "LOCAL 0032BJ PA AMERICAN DREAM FUND  5000.0\n",
       "SEIU HEALTHCARE PA COPE              5000.0\n",
       "PSSU LOCAL 668 SEIU COPE FUND        1000.0"
      ]
     },
     "execution_count": 14,
     "metadata": {},
     "output_type": "execute_result"
    }
   ],
   "source": [
    "pd.pivot_table(expenses[\n",
    "    (expenses.name.str.contains('GAINEY') |\n",
    "     expenses.description.str.contains('GAINEY')) &\n",
    "    (expenses.date.dt.year.isin([2020, 2021]))\n",
    "], index='Committee Name', values='amount', aggfunc='sum').sort_values(by='amount', ascending=False)"
   ]
  },
  {
   "cell_type": "markdown",
   "id": "c7112c7b-24b0-494d-b8b9-22ed16c0d5ce",
   "metadata": {},
   "source": [
    "### Innamorato"
   ]
  },
  {
   "cell_type": "code",
   "execution_count": 15,
   "id": "c7c5f0e9-59b8-458d-a7dd-4a52612fce18",
   "metadata": {},
   "outputs": [
    {
     "data": {
      "text/html": [
       "<div>\n",
       "<style scoped>\n",
       "    .dataframe tbody tr th:only-of-type {\n",
       "        vertical-align: middle;\n",
       "    }\n",
       "\n",
       "    .dataframe tbody tr th {\n",
       "        vertical-align: top;\n",
       "    }\n",
       "\n",
       "    .dataframe thead th {\n",
       "        text-align: right;\n",
       "    }\n",
       "</style>\n",
       "<table border=\"1\" class=\"dataframe\">\n",
       "  <thead>\n",
       "    <tr style=\"text-align: right;\">\n",
       "      <th></th>\n",
       "      <th>amount</th>\n",
       "    </tr>\n",
       "    <tr>\n",
       "      <th>Committee Name</th>\n",
       "      <th></th>\n",
       "    </tr>\n",
       "  </thead>\n",
       "  <tbody>\n",
       "    <tr>\n",
       "      <th>LOCAL 0032BJ PA AMERICAN DREAM FUND</th>\n",
       "      <td>40000.0</td>\n",
       "    </tr>\n",
       "    <tr>\n",
       "      <th>PA SEIU COPE (SOC SVCS)</th>\n",
       "      <td>50000.0</td>\n",
       "    </tr>\n",
       "    <tr>\n",
       "      <th>PSSU LOCAL 668 SEIU COPE FUND</th>\n",
       "      <td>100000.0</td>\n",
       "    </tr>\n",
       "    <tr>\n",
       "      <th>SEIU CAREGIVERS ACTION</th>\n",
       "      <td>75000.0</td>\n",
       "    </tr>\n",
       "    <tr>\n",
       "      <th>SEIU HEALTHCARE PA COPE</th>\n",
       "      <td>95300.0</td>\n",
       "    </tr>\n",
       "    <tr>\n",
       "      <th>Total</th>\n",
       "      <td>360300.0</td>\n",
       "    </tr>\n",
       "  </tbody>\n",
       "</table>\n",
       "</div>"
      ],
      "text/plain": [
       "                                       amount\n",
       "Committee Name                               \n",
       "LOCAL 0032BJ PA AMERICAN DREAM FUND   40000.0\n",
       "PA SEIU COPE (SOC SVCS)               50000.0\n",
       "PSSU LOCAL 668 SEIU COPE FUND        100000.0\n",
       "SEIU CAREGIVERS ACTION                75000.0\n",
       "SEIU HEALTHCARE PA COPE               95300.0\n",
       "Total                                360300.0"
      ]
     },
     "execution_count": 15,
     "metadata": {},
     "output_type": "execute_result"
    }
   ],
   "source": [
    "pd.pivot_table(expenses[\n",
    "    (expenses.name.str.contains('INNAMORATO') |\n",
    "     expenses.description.str.contains('INNAMORATO')) &\n",
    "    (expenses.date.dt.year == 2023)\n",
    "], index='Committee Name', values='amount', aggfunc='sum', margins=True, margins_name='Total')"
   ]
  },
  {
   "cell_type": "markdown",
   "id": "ded39311-0832-4311-8ddc-704f351f8734",
   "metadata": {},
   "source": [
    "### SEIU total spend over time"
   ]
  },
  {
   "cell_type": "code",
   "execution_count": 16,
   "id": "0ce46933-9a34-4f71-a044-783d773ac583",
   "metadata": {},
   "outputs": [],
   "source": [
    "totalspend = pd.pivot_table(\n",
    "    expenses[\n",
    "        (expenses.zipcode.str[:3].isin(['150', '151', '152'])) |\n",
    "        (expenses.name.str.contains('BOBBY WILSON')) |\n",
    "        (expenses.description.str.contains('BOBBY WILSON')) |\n",
    "        (expenses.description.str.contains('DARLENE HARRIS')) |\n",
    "        (expenses.name.str.contains('KINKEAD')) |\n",
    "        (expenses.name.isin(['ALLEGHENY COUNTY JUSTICE FOR ALL', 'GOOD JOBS PITTSBURGH'])) |\n",
    "        (expenses.name.str.contains('PEDUTO')) |\n",
    "        (expenses.name.str.contains('INNAMORATO')) |\n",
    "        (expenses.description.str.contains('INNAMORATO'))\n",
    "    ],\n",
    "    index='Committee Name',\n",
    "    columns='election_year',\n",
    "    values='amount',\n",
    "    aggfunc='sum'\n",
    ").fillna(0).transpose()\n",
    "\n",
    "totalspend['Health-related'] = totalspend['SEIU HEALTHCARE PA COPE'] + totalspend['SEIU CAREGIVERS ACTION']\n",
    "\n",
    "totalspend = totalspend.rename(columns={\n",
    "    'LOCAL 0032BJ PA AMERICAN DREAM FUND': '32BJ',\n",
    "    'PSSU LOCAL 668 SEIU COPE FUND': '668',\n",
    "    'PA SEIU COPE (SOC SVCS)': 'State Council'\n",
    "})\n",
    "\n",
    "totalspend[['Health-related', '32BJ', '668', 'State Council']].to_csv('output/chart.csv')"
   ]
  }
 ],
 "metadata": {
  "kernelspec": {
   "display_name": "Python 3 (ipykernel)",
   "language": "python",
   "name": "python3"
  },
  "language_info": {
   "codemirror_mode": {
    "name": "ipython",
    "version": 3
   },
   "file_extension": ".py",
   "mimetype": "text/x-python",
   "name": "python",
   "nbconvert_exporter": "python",
   "pygments_lexer": "ipython3",
   "version": "3.9.6"
  }
 },
 "nbformat": 4,
 "nbformat_minor": 5
}
